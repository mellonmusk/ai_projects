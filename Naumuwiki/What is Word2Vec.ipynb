{
 "cells": [
  {
   "cell_type": "markdown",
   "id": "83b4367c-13f4-4c69-be3e-4a210f529d12",
   "metadata": {},
   "source": [
    "<h2>What is Gensim?</h2>\n",
    "\n",
    "- A Python library for statistical natural language processing tasks\n",
    "\n",
    "-  Primarily used for training word and document embeddings, such as Word2Vec and Doc2Vec "
   ]
  },
  {
   "cell_type": "code",
   "execution_count": 2,
   "id": "76f8b751-ce20-4989-bf54-e606cba348ed",
   "metadata": {},
   "outputs": [
    {
     "name": "stdout",
     "output_type": "stream",
     "text": [
      "Collecting gensim\n",
      "  Obtaining dependency information for gensim from https://files.pythonhosted.org/packages/f5/57/f2e6568dbf464a4b270954e5fa3dee4a4054d163a41c0e7bf0a34eb40f0f/gensim-4.3.3-cp311-cp311-win_amd64.whl.metadata\n",
      "  Downloading gensim-4.3.3-cp311-cp311-win_amd64.whl.metadata (8.2 kB)\n",
      "Requirement already satisfied: numpy<2.0,>=1.18.5 in c:\\users\\peach\\anaconda3\\lib\\site-packages (from gensim) (1.26.4)\n",
      "Collecting scipy<1.14.0,>=1.7.0 (from gensim)\n",
      "  Obtaining dependency information for scipy<1.14.0,>=1.7.0 from https://files.pythonhosted.org/packages/4a/48/4513a1a5623a23e95f94abd675ed91cfb19989c58e9f6f7d03990f6caf3d/scipy-1.13.1-cp311-cp311-win_amd64.whl.metadata\n",
      "  Downloading scipy-1.13.1-cp311-cp311-win_amd64.whl.metadata (60 kB)\n",
      "     ---------------------------------------- 0.0/60.6 kB ? eta -:--:--\n",
      "     ------ --------------------------------- 10.2/60.6 kB ? eta -:--:--\n",
      "     -------------------------------------- 60.6/60.6 kB 799.0 kB/s eta 0:00:00\n",
      "Collecting smart-open>=1.8.1 (from gensim)\n",
      "  Obtaining dependency information for smart-open>=1.8.1 from https://files.pythonhosted.org/packages/06/bc/706838af28a542458bffe74a5d0772ca7f207b5495cd9fccfce61ef71f2a/smart_open-7.0.5-py3-none-any.whl.metadata\n",
      "  Downloading smart_open-7.0.5-py3-none-any.whl.metadata (24 kB)\n",
      "Collecting wrapt (from smart-open>=1.8.1->gensim)\n",
      "  Obtaining dependency information for wrapt from https://files.pythonhosted.org/packages/cf/c3/0084351951d9579ae83a3d9e38c140371e4c6b038136909235079f2e6e78/wrapt-1.16.0-cp311-cp311-win_amd64.whl.metadata\n",
      "  Downloading wrapt-1.16.0-cp311-cp311-win_amd64.whl.metadata (6.8 kB)\n",
      "Downloading gensim-4.3.3-cp311-cp311-win_amd64.whl (24.0 MB)\n",
      "   ---------------------------------------- 0.0/24.0 MB ? eta -:--:--\n",
      "    --------------------------------------- 0.3/24.0 MB 10.6 MB/s eta 0:00:03\n",
      "   - -------------------------------------- 0.7/24.0 MB 9.1 MB/s eta 0:00:03\n",
      "   - -------------------------------------- 1.1/24.0 MB 8.4 MB/s eta 0:00:03\n",
      "   -- ------------------------------------- 1.5/24.0 MB 8.6 MB/s eta 0:00:03\n",
      "   --- ------------------------------------ 1.9/24.0 MB 8.5 MB/s eta 0:00:03\n",
      "   --- ------------------------------------ 2.3/24.0 MB 8.7 MB/s eta 0:00:03\n",
      "   ---- ----------------------------------- 2.9/24.0 MB 9.2 MB/s eta 0:00:03\n",
      "   ----- ---------------------------------- 3.3/24.0 MB 9.3 MB/s eta 0:00:03\n",
      "   ------ --------------------------------- 3.8/24.0 MB 9.3 MB/s eta 0:00:03\n",
      "   ------- -------------------------------- 4.2/24.0 MB 9.3 MB/s eta 0:00:03\n",
      "   ------- -------------------------------- 4.7/24.0 MB 9.5 MB/s eta 0:00:03\n",
      "   -------- ------------------------------- 5.0/24.0 MB 9.5 MB/s eta 0:00:03\n",
      "   -------- ------------------------------- 5.2/24.0 MB 9.0 MB/s eta 0:00:03\n",
      "   --------- ------------------------------ 5.7/24.0 MB 9.2 MB/s eta 0:00:02\n",
      "   ---------- ----------------------------- 6.2/24.0 MB 9.2 MB/s eta 0:00:02\n",
      "   ----------- ---------------------------- 6.6/24.0 MB 9.2 MB/s eta 0:00:02\n",
      "   ----------- ---------------------------- 7.0/24.0 MB 9.2 MB/s eta 0:00:02\n",
      "   ------------ --------------------------- 7.5/24.0 MB 9.3 MB/s eta 0:00:02\n",
      "   ------------ --------------------------- 7.7/24.0 MB 9.2 MB/s eta 0:00:02\n",
      "   ------------- -------------------------- 8.1/24.0 MB 8.9 MB/s eta 0:00:02\n",
      "   -------------- ------------------------- 8.5/24.0 MB 8.9 MB/s eta 0:00:02\n",
      "   -------------- ------------------------- 8.9/24.0 MB 8.9 MB/s eta 0:00:02\n",
      "   --------------- ------------------------ 9.4/24.0 MB 9.0 MB/s eta 0:00:02\n",
      "   ---------------- ----------------------- 9.9/24.0 MB 9.0 MB/s eta 0:00:02\n",
      "   ----------------- ---------------------- 10.4/24.0 MB 9.1 MB/s eta 0:00:02\n",
      "   ----------------- ---------------------- 10.8/24.0 MB 9.1 MB/s eta 0:00:02\n",
      "   ------------------ --------------------- 11.3/24.0 MB 9.4 MB/s eta 0:00:02\n",
      "   ------------------- -------------------- 11.6/24.0 MB 9.4 MB/s eta 0:00:02\n",
      "   -------------------- ------------------- 12.2/24.0 MB 9.5 MB/s eta 0:00:02\n",
      "   --------------------- ------------------ 12.8/24.0 MB 9.5 MB/s eta 0:00:02\n",
      "   ---------------------- ----------------- 13.4/24.0 MB 9.5 MB/s eta 0:00:02\n",
      "   ----------------------- ---------------- 14.0/24.0 MB 9.6 MB/s eta 0:00:02\n",
      "   ------------------------ --------------- 14.5/24.0 MB 9.8 MB/s eta 0:00:01\n",
      "   ------------------------ --------------- 14.9/24.0 MB 9.6 MB/s eta 0:00:01\n",
      "   ------------------------- -------------- 15.3/24.0 MB 9.8 MB/s eta 0:00:01\n",
      "   -------------------------- ------------- 15.9/24.0 MB 10.1 MB/s eta 0:00:01\n",
      "   --------------------------- ------------ 16.4/24.0 MB 10.1 MB/s eta 0:00:01\n",
      "   ---------------------------- ----------- 16.9/24.0 MB 10.2 MB/s eta 0:00:01\n",
      "   ---------------------------- ----------- 17.3/24.0 MB 10.2 MB/s eta 0:00:01\n",
      "   ----------------------------- ---------- 17.9/24.0 MB 10.2 MB/s eta 0:00:01\n",
      "   ------------------------------ --------- 18.4/24.0 MB 10.6 MB/s eta 0:00:01\n",
      "   ------------------------------- -------- 18.8/24.0 MB 10.7 MB/s eta 0:00:01\n",
      "   -------------------------------- ------- 19.3/24.0 MB 10.9 MB/s eta 0:00:01\n",
      "   --------------------------------- ------ 19.8/24.0 MB 10.9 MB/s eta 0:00:01\n",
      "   ---------------------------------- ----- 20.4/24.0 MB 10.9 MB/s eta 0:00:01\n",
      "   ---------------------------------- ----- 20.8/24.0 MB 10.9 MB/s eta 0:00:01\n",
      "   ----------------------------------- ---- 21.4/24.0 MB 11.1 MB/s eta 0:00:01\n",
      "   ------------------------------------ --- 21.9/24.0 MB 11.3 MB/s eta 0:00:01\n",
      "   ------------------------------------- -- 22.5/24.0 MB 11.3 MB/s eta 0:00:01\n",
      "   -------------------------------------- - 23.0/24.0 MB 11.1 MB/s eta 0:00:01\n",
      "   ---------------------------------------  23.4/24.0 MB 11.1 MB/s eta 0:00:01\n",
      "   ---------------------------------------  24.0/24.0 MB 10.9 MB/s eta 0:00:01\n",
      "   ---------------------------------------  24.0/24.0 MB 10.9 MB/s eta 0:00:01\n",
      "   ---------------------------------------  24.0/24.0 MB 10.9 MB/s eta 0:00:01\n",
      "   ---------------------------------------- 24.0/24.0 MB 9.6 MB/s eta 0:00:00\n",
      "Downloading scipy-1.13.1-cp311-cp311-win_amd64.whl (46.2 MB)\n",
      "   ---------------------------------------- 0.0/46.2 MB ? eta -:--:--\n",
      "   ---------------------------------------- 0.5/46.2 MB 14.2 MB/s eta 0:00:04\n",
      "    --------------------------------------- 0.9/46.2 MB 10.0 MB/s eta 0:00:05\n",
      "   - -------------------------------------- 1.6/46.2 MB 11.2 MB/s eta 0:00:04\n",
      "   - -------------------------------------- 2.1/46.2 MB 12.0 MB/s eta 0:00:04\n",
      "   -- ------------------------------------- 2.6/46.2 MB 11.8 MB/s eta 0:00:04\n",
      "   -- ------------------------------------- 3.1/46.2 MB 11.6 MB/s eta 0:00:04\n",
      "   --- ------------------------------------ 3.5/46.2 MB 11.3 MB/s eta 0:00:04\n",
      "   --- ------------------------------------ 4.1/46.2 MB 11.4 MB/s eta 0:00:04\n",
      "   --- ------------------------------------ 4.5/46.2 MB 11.1 MB/s eta 0:00:04\n",
      "   ---- ----------------------------------- 5.1/46.2 MB 11.3 MB/s eta 0:00:04\n",
      "   ---- ----------------------------------- 5.6/46.2 MB 11.2 MB/s eta 0:00:04\n",
      "   ----- ---------------------------------- 6.2/46.2 MB 11.4 MB/s eta 0:00:04\n",
      "   ----- ---------------------------------- 6.7/46.2 MB 11.3 MB/s eta 0:00:04\n",
      "   ------ --------------------------------- 7.2/46.2 MB 11.2 MB/s eta 0:00:04\n",
      "   ------ --------------------------------- 7.7/46.2 MB 11.3 MB/s eta 0:00:04\n",
      "   ------- -------------------------------- 8.3/46.2 MB 11.4 MB/s eta 0:00:04\n",
      "   ------- -------------------------------- 8.9/46.2 MB 11.3 MB/s eta 0:00:04\n",
      "   -------- ------------------------------- 9.3/46.2 MB 11.2 MB/s eta 0:00:04\n",
      "   -------- ------------------------------- 9.9/46.2 MB 11.3 MB/s eta 0:00:04\n",
      "   -------- ------------------------------- 10.4/46.2 MB 11.3 MB/s eta 0:00:04\n",
      "   --------- ------------------------------ 11.0/46.2 MB 11.3 MB/s eta 0:00:04\n",
      "   --------- ------------------------------ 11.4/46.2 MB 11.3 MB/s eta 0:00:04\n",
      "   ---------- ----------------------------- 11.9/46.2 MB 11.1 MB/s eta 0:00:04\n",
      "   ---------- ----------------------------- 12.4/46.2 MB 11.1 MB/s eta 0:00:04\n",
      "   ---------- ----------------------------- 12.6/46.2 MB 11.1 MB/s eta 0:00:04\n",
      "   ----------- ---------------------------- 12.9/46.2 MB 10.7 MB/s eta 0:00:04\n",
      "   ----------- ---------------------------- 13.4/46.2 MB 10.9 MB/s eta 0:00:04\n",
      "   ------------ --------------------------- 14.0/46.2 MB 10.7 MB/s eta 0:00:04\n",
      "   ------------ --------------------------- 14.3/46.2 MB 10.7 MB/s eta 0:00:03\n",
      "   ------------ --------------------------- 14.3/46.2 MB 10.7 MB/s eta 0:00:03\n",
      "   ------------ --------------------------- 14.4/46.2 MB 9.8 MB/s eta 0:00:04\n",
      "   ------------ --------------------------- 15.0/46.2 MB 9.8 MB/s eta 0:00:04\n",
      "   ------------- -------------------------- 15.2/46.2 MB 9.8 MB/s eta 0:00:04\n",
      "   ------------- -------------------------- 15.3/46.2 MB 9.2 MB/s eta 0:00:04\n",
      "   ------------- -------------------------- 15.8/46.2 MB 9.2 MB/s eta 0:00:04\n",
      "   -------------- ------------------------- 16.2/46.2 MB 9.1 MB/s eta 0:00:04\n",
      "   -------------- ------------------------- 16.8/46.2 MB 9.1 MB/s eta 0:00:04\n",
      "   -------------- ------------------------- 17.2/46.2 MB 9.1 MB/s eta 0:00:04\n",
      "   --------------- ------------------------ 17.8/46.2 MB 9.2 MB/s eta 0:00:04\n",
      "   --------------- ------------------------ 18.0/46.2 MB 9.0 MB/s eta 0:00:04\n",
      "   --------------- ------------------------ 18.2/46.2 MB 8.7 MB/s eta 0:00:04\n",
      "   --------------- ------------------------ 18.4/46.2 MB 8.5 MB/s eta 0:00:04\n",
      "   --------------- ------------------------ 18.4/46.2 MB 8.2 MB/s eta 0:00:04\n",
      "   ---------------- ----------------------- 18.6/46.2 MB 8.0 MB/s eta 0:00:04\n",
      "   ---------------- ----------------------- 18.7/46.2 MB 7.9 MB/s eta 0:00:04\n",
      "   ---------------- ----------------------- 18.7/46.2 MB 7.9 MB/s eta 0:00:04\n",
      "   ---------------- ----------------------- 18.8/46.2 MB 7.4 MB/s eta 0:00:04\n",
      "   ---------------- ----------------------- 19.0/46.2 MB 7.2 MB/s eta 0:00:04\n",
      "   ---------------- ----------------------- 19.1/46.2 MB 6.9 MB/s eta 0:00:04\n",
      "   ---------------- ----------------------- 19.1/46.2 MB 6.8 MB/s eta 0:00:05\n",
      "   ---------------- ----------------------- 19.2/46.2 MB 6.5 MB/s eta 0:00:05\n",
      "   ---------------- ----------------------- 19.4/46.2 MB 6.5 MB/s eta 0:00:05\n",
      "   ---------------- ----------------------- 19.4/46.2 MB 6.4 MB/s eta 0:00:05\n",
      "   ---------------- ----------------------- 19.4/46.2 MB 6.2 MB/s eta 0:00:05\n",
      "   ---------------- ----------------------- 19.4/46.2 MB 6.2 MB/s eta 0:00:05\n",
      "   ---------------- ----------------------- 19.6/46.2 MB 5.9 MB/s eta 0:00:05\n",
      "   ----------------- ---------------------- 20.0/46.2 MB 5.8 MB/s eta 0:00:05\n",
      "   ----------------- ---------------------- 20.5/46.2 MB 5.8 MB/s eta 0:00:05\n",
      "   ------------------ --------------------- 21.1/46.2 MB 5.8 MB/s eta 0:00:05\n",
      "   ------------------ --------------------- 21.6/46.2 MB 5.8 MB/s eta 0:00:05\n",
      "   ------------------- -------------------- 22.0/46.2 MB 5.8 MB/s eta 0:00:05\n",
      "   ------------------- -------------------- 22.1/46.2 MB 5.7 MB/s eta 0:00:05\n",
      "   ------------------- -------------------- 22.9/46.2 MB 5.9 MB/s eta 0:00:04\n",
      "   -------------------- ------------------- 23.4/46.2 MB 5.9 MB/s eta 0:00:04\n",
      "   -------------------- ------------------- 23.9/46.2 MB 5.9 MB/s eta 0:00:04\n",
      "   --------------------- ------------------ 24.5/46.2 MB 5.9 MB/s eta 0:00:04\n",
      "   --------------------- ------------------ 25.0/46.2 MB 6.3 MB/s eta 0:00:04\n",
      "   ---------------------- ----------------- 25.6/46.2 MB 6.5 MB/s eta 0:00:04\n",
      "   ---------------------- ----------------- 26.0/46.2 MB 6.5 MB/s eta 0:00:04\n",
      "   ---------------------- ----------------- 26.5/46.2 MB 6.5 MB/s eta 0:00:04\n",
      "   ----------------------- ---------------- 26.9/46.2 MB 6.5 MB/s eta 0:00:03\n",
      "   ----------------------- ---------------- 27.5/46.2 MB 6.5 MB/s eta 0:00:03\n",
      "   ------------------------ --------------- 27.9/46.2 MB 6.5 MB/s eta 0:00:03\n",
      "   ------------------------ --------------- 28.4/46.2 MB 6.8 MB/s eta 0:00:03\n",
      "   ------------------------- -------------- 28.9/46.2 MB 7.3 MB/s eta 0:00:03\n",
      "   ------------------------- -------------- 29.2/46.2 MB 7.7 MB/s eta 0:00:03\n",
      "   ------------------------- -------------- 29.7/46.2 MB 10.2 MB/s eta 0:00:02\n",
      "   -------------------------- ------------- 30.2/46.2 MB 10.4 MB/s eta 0:00:02\n",
      "   -------------------------- ------------- 30.7/46.2 MB 10.4 MB/s eta 0:00:02\n",
      "   -------------------------- ------------- 31.2/46.2 MB 10.4 MB/s eta 0:00:02\n",
      "   --------------------------- ------------ 31.8/46.2 MB 10.7 MB/s eta 0:00:02\n",
      "   ---------------------------- ----------- 32.4/46.2 MB 11.1 MB/s eta 0:00:02\n",
      "   ---------------------------- ----------- 32.9/46.2 MB 10.9 MB/s eta 0:00:02\n",
      "   ---------------------------- ----------- 33.3/46.2 MB 10.7 MB/s eta 0:00:02\n",
      "   ----------------------------- ---------- 33.6/46.2 MB 10.7 MB/s eta 0:00:02\n",
      "   ----------------------------- ---------- 34.1/46.2 MB 10.6 MB/s eta 0:00:02\n",
      "   ----------------------------- ---------- 34.5/46.2 MB 10.4 MB/s eta 0:00:02\n",
      "   ------------------------------ --------- 35.1/46.2 MB 10.6 MB/s eta 0:00:02\n",
      "   ------------------------------ --------- 35.5/46.2 MB 10.4 MB/s eta 0:00:02\n",
      "   ------------------------------- -------- 36.0/46.2 MB 10.4 MB/s eta 0:00:01\n",
      "   ------------------------------- -------- 36.5/46.2 MB 10.4 MB/s eta 0:00:01\n",
      "   -------------------------------- ------- 37.1/46.2 MB 10.6 MB/s eta 0:00:01\n",
      "   -------------------------------- ------- 37.6/46.2 MB 10.4 MB/s eta 0:00:01\n",
      "   -------------------------------- ------- 38.1/46.2 MB 10.4 MB/s eta 0:00:01\n",
      "   --------------------------------- ------ 38.6/46.2 MB 10.6 MB/s eta 0:00:01\n",
      "   --------------------------------- ------ 39.0/46.2 MB 10.6 MB/s eta 0:00:01\n",
      "   ---------------------------------- ----- 39.5/46.2 MB 10.7 MB/s eta 0:00:01\n",
      "   ---------------------------------- ----- 40.0/46.2 MB 10.7 MB/s eta 0:00:01\n",
      "   ----------------------------------- ---- 40.6/46.2 MB 10.9 MB/s eta 0:00:01\n",
      "   ----------------------------------- ---- 41.2/46.2 MB 10.9 MB/s eta 0:00:01\n",
      "   ------------------------------------ --- 41.8/46.2 MB 10.9 MB/s eta 0:00:01\n",
      "   ------------------------------------ --- 42.3/46.2 MB 10.9 MB/s eta 0:00:01\n",
      "   ------------------------------------- -- 42.9/46.2 MB 10.9 MB/s eta 0:00:01\n",
      "   ------------------------------------- -- 43.4/46.2 MB 10.7 MB/s eta 0:00:01\n",
      "   ------------------------------------- -- 43.8/46.2 MB 10.9 MB/s eta 0:00:01\n",
      "   -------------------------------------- - 44.2/46.2 MB 10.7 MB/s eta 0:00:01\n",
      "   -------------------------------------- - 44.7/46.2 MB 10.9 MB/s eta 0:00:01\n",
      "   ---------------------------------------  45.2/46.2 MB 10.9 MB/s eta 0:00:01\n",
      "   ---------------------------------------  45.7/46.2 MB 11.1 MB/s eta 0:00:01\n",
      "   ---------------------------------------  46.2/46.2 MB 11.1 MB/s eta 0:00:01\n",
      "   ---------------------------------------  46.2/46.2 MB 11.1 MB/s eta 0:00:01\n",
      "   ---------------------------------------  46.2/46.2 MB 11.1 MB/s eta 0:00:01\n",
      "   ---------------------------------------  46.2/46.2 MB 11.1 MB/s eta 0:00:01\n",
      "   ---------------------------------------  46.2/46.2 MB 11.1 MB/s eta 0:00:01\n",
      "   ---------------------------------------  46.2/46.2 MB 11.1 MB/s eta 0:00:01\n",
      "   ---------------------------------------  46.2/46.2 MB 11.1 MB/s eta 0:00:01\n",
      "   ---------------------------------------- 46.2/46.2 MB 7.9 MB/s eta 0:00:00\n",
      "Downloading smart_open-7.0.5-py3-none-any.whl (61 kB)\n",
      "   ---------------------------------------- 0.0/61.4 kB ? eta -:--:--\n",
      "   ---------------------------------------- 61.4/61.4 kB 3.2 MB/s eta 0:00:00\n",
      "Downloading wrapt-1.16.0-cp311-cp311-win_amd64.whl (37 kB)\n",
      "Installing collected packages: wrapt, scipy, smart-open, gensim\n",
      "Successfully installed gensim-4.3.3 scipy-1.13.1 smart-open-7.0.5 wrapt-1.16.0\n",
      "Note: you may need to restart the kernel to use updated packages.\n"
     ]
    }
   ],
   "source": [
    "pip install gensim"
   ]
  },
  {
   "cell_type": "code",
   "execution_count": 4,
   "id": "621c2fd7-a742-49ec-9ce3-314ddcb13ebb",
   "metadata": {},
   "outputs": [],
   "source": [
    "# Create a Word2Vec Model\n",
    "\n",
    "from gensim.models import Word2Vec\n",
    "# Example Data\n",
    "sentences = [[\"cat\",\"say\",\"meow\"],[\"dog\",\"say\",\"woof\"]]\n",
    "# Train the model\n",
    "model = Word2Vec(sentences, vector_size=100, window=5, min_count=1, sg=1)"
   ]
  },
  {
   "cell_type": "code",
   "execution_count": 8,
   "id": "2d57a94d-7595-4558-a424-dd0ec066ab40",
   "metadata": {},
   "outputs": [],
   "source": [
    "# calculate word similarity\n",
    "\n",
    "similarity = model.wv.similarity(\"cat\",\"dog\")\n",
    "\n",
    "# find most similar words\n",
    "similar_words = model.wv.most_similar(\"cat\",topn=5)\n",
    "\n",
    "# retrieve word vectors\n",
    "cat_vector = model.wv[\"cat\"]"
   ]
  },
  {
   "cell_type": "code",
   "execution_count": 11,
   "id": "334fc452-5278-4297-b460-575122894890",
   "metadata": {},
   "outputs": [
    {
     "name": "stdout",
     "output_type": "stream",
     "text": [
      "similarity:  0.17018887\n",
      "Five similar words with 'cat': [('dog', 0.17018885910511017), ('woof', 0.004503016825765371), ('say', -0.027750344946980476), ('meow', -0.044617101550102234)]\n"
     ]
    }
   ],
   "source": [
    "print(\"similarity: \", similarity)\n",
    "print(\"Five similar words with 'cat':\", similar_words)"
   ]
  },
  {
   "cell_type": "code",
   "execution_count": 6,
   "id": "54e00a0b-7603-430e-8819-bee800f110b5",
   "metadata": {},
   "outputs": [
    {
     "name": "stdout",
     "output_type": "stream",
     "text": [
      "Requirement already satisfied: konlpy in c:\\users\\peach\\anaconda3\\lib\\site-packages (0.6.0)\n",
      "Requirement already satisfied: JPype1>=0.7.0 in c:\\users\\peach\\anaconda3\\lib\\site-packages (from konlpy) (1.5.0)\n",
      "Requirement already satisfied: lxml>=4.1.0 in c:\\users\\peach\\anaconda3\\lib\\site-packages (from konlpy) (5.3.0)\n",
      "Requirement already satisfied: numpy>=1.6 in c:\\users\\peach\\anaconda3\\lib\\site-packages (from konlpy) (1.26.4)\n",
      "Requirement already satisfied: packaging in c:\\users\\peach\\anaconda3\\lib\\site-packages (from JPype1>=0.7.0->konlpy) (24.1)\n",
      "Note: you may need to restart the kernel to use updated packages.\n"
     ]
    }
   ],
   "source": [
    "pip install konlpy"
   ]
  },
  {
   "cell_type": "code",
   "execution_count": 24,
   "id": "1505d0e6-da15-4273-9aec-37ade49089b8",
   "metadata": {},
   "outputs": [],
   "source": [
    "# 형태소에 품사를 붙여서 추출 : pos, 형태소만 추출 : morphs,\n",
    "# 명사 추출 : nouns, 구 추출 :phrases \n",
    "\n",
    "from konlpy.tag import Okt, Kkma\n",
    "okt = Okt()\n",
    "kkma=Kkma()\n",
    "text = \"자연어 처리는 재미있다.정말로 재밌어서. 눈물이 날려고 하네!라고했다.근데진짜에요\"\n",
    "sentences= kkma.sentences(text)\n",
    "tokens = okt.morphs(text)\n",
    "pos = okt.pos(text)"
   ]
  },
  {
   "cell_type": "code",
   "execution_count": 15,
   "id": "b5d5c30c-8f41-4bf5-9545-7de3b78fe86a",
   "metadata": {},
   "outputs": [
    {
     "name": "stdout",
     "output_type": "stream",
     "text": [
      "['자연어', '자연어 처리', '처리']\n"
     ]
    }
   ],
   "source": [
    "ph=okt.phrases(text)\n",
    "print(ph)"
   ]
  },
  {
   "cell_type": "code",
   "execution_count": 12,
   "id": "edb2a5f9-b3c1-4626-bf85-ea10b273cad8",
   "metadata": {},
   "outputs": [
    {
     "name": "stdout",
     "output_type": "stream",
     "text": [
      "['자연어', '처리', '는', '재미있어요', '!']\n"
     ]
    }
   ],
   "source": [
    "print(tokens)"
   ]
  },
  {
   "cell_type": "code",
   "execution_count": 28,
   "id": "808aa7dc-bef6-47e0-a507-866b3acb5cc0",
   "metadata": {},
   "outputs": [
    {
     "name": "stdout",
     "output_type": "stream",
     "text": [
      "[['자연어', '처리', '는', '재미있다', '.'], ['정말로', '재밌어서', '.', '눈물', '이', '날려고', '하네', '!', '라고'], ['했다', '.'], ['근데', '진짜', '에요']]\n"
     ]
    }
   ],
   "source": [
    "result =[]\n",
    "for s in sentences:\n",
    "    tmp = okt.morphs(s)\n",
    "    result.append(tmp)\n",
    "print(result)"
   ]
  },
  {
   "cell_type": "code",
   "execution_count": 13,
   "id": "954dbcb6-b90b-4a42-a8d2-074b9f16a39f",
   "metadata": {},
   "outputs": [
    {
     "name": "stdout",
     "output_type": "stream",
     "text": [
      "[('자연어', 'Noun'), ('처리', 'Noun'), ('는', 'Josa'), ('재미있어요', 'Adjective'), ('!', 'Punctuation')]\n"
     ]
    }
   ],
   "source": [
    "print(pos)"
   ]
  },
  {
   "cell_type": "code",
   "execution_count": 35,
   "id": "06396e68-a4de-487d-a85b-974012eb54da",
   "metadata": {},
   "outputs": [],
   "source": [
    "sentences = [\"the sun sets, painting the sky with fiery hues.\",\n",
    "\"a gentle breeze rustles the leaves on the ground.\", \"she smiled, remembering the days spent under the willow tree.\",\n",
    "\"the city lights shimmer, reflecting on the river's surface.\",\n",
    "\"he whispered secrets, hoping they would never be revealed.\",\n",
    "\"the aroma of fresh coffee filled the cozy little cafe.\",\n",
    "\"birds chirped merrily, welcoming the dawn of a new day.\",\n",
    "\"her laughter echoed, bringing joy to everyone around her.\",\n",
    "\"the ancient forest stood silent, guarding its hidden mysteries.\",\n",
    "\"the waves crashed rhythmically, a soothing symphony for all.\"]\n",
    "\n",
    "word_dict={}\n",
    "for s in sentences:\n",
    "    words = s.split()\n",
    "    for word in words:\n",
    "        if word not in word_dict:\n",
    "            word_dict[word] = len(word_dict)"
   ]
  },
  {
   "cell_type": "code",
   "execution_count": 36,
   "id": "795c1459-7e4c-42b6-92e0-cdc54d1aaab4",
   "metadata": {},
   "outputs": [
    {
     "data": {
      "text/plain": [
       "{'the': 0,\n",
       " 'sun': 1,\n",
       " 'sets,': 2,\n",
       " 'painting': 3,\n",
       " 'sky': 4,\n",
       " 'with': 5,\n",
       " 'fiery': 6,\n",
       " 'hues.': 7,\n",
       " 'a': 8,\n",
       " 'gentle': 9,\n",
       " 'breeze': 10,\n",
       " 'rustles': 11,\n",
       " 'leaves': 12,\n",
       " 'on': 13,\n",
       " 'ground.': 14,\n",
       " 'she': 15,\n",
       " 'smiled,': 16,\n",
       " 'remembering': 17,\n",
       " 'days': 18,\n",
       " 'spent': 19,\n",
       " 'under': 20,\n",
       " 'willow': 21,\n",
       " 'tree.': 22,\n",
       " 'city': 23,\n",
       " 'lights': 24,\n",
       " 'shimmer,': 25,\n",
       " 'reflecting': 26,\n",
       " \"river's\": 27,\n",
       " 'surface.': 28,\n",
       " 'he': 29,\n",
       " 'whispered': 30,\n",
       " 'secrets,': 31,\n",
       " 'hoping': 32,\n",
       " 'they': 33,\n",
       " 'would': 34,\n",
       " 'never': 35,\n",
       " 'be': 36,\n",
       " 'revealed.': 37,\n",
       " 'aroma': 38,\n",
       " 'of': 39,\n",
       " 'fresh': 40,\n",
       " 'coffee': 41,\n",
       " 'filled': 42,\n",
       " 'cozy': 43,\n",
       " 'little': 44,\n",
       " 'cafe.': 45,\n",
       " 'birds': 46,\n",
       " 'chirped': 47,\n",
       " 'merrily,': 48,\n",
       " 'welcoming': 49,\n",
       " 'dawn': 50,\n",
       " 'new': 51,\n",
       " 'day.': 52,\n",
       " 'her': 53,\n",
       " 'laughter': 54,\n",
       " 'echoed,': 55,\n",
       " 'bringing': 56,\n",
       " 'joy': 57,\n",
       " 'to': 58,\n",
       " 'everyone': 59,\n",
       " 'around': 60,\n",
       " 'her.': 61,\n",
       " 'ancient': 62,\n",
       " 'forest': 63,\n",
       " 'stood': 64,\n",
       " 'silent,': 65,\n",
       " 'guarding': 66,\n",
       " 'its': 67,\n",
       " 'hidden': 68,\n",
       " 'mysteries.': 69,\n",
       " 'waves': 70,\n",
       " 'crashed': 71,\n",
       " 'rhythmically,': 72,\n",
       " 'soothing': 73,\n",
       " 'symphony': 74,\n",
       " 'for': 75,\n",
       " 'all.': 76}"
      ]
     },
     "execution_count": 36,
     "metadata": {},
     "output_type": "execute_result"
    }
   ],
   "source": [
    "word_dict"
   ]
  },
  {
   "cell_type": "code",
   "execution_count": 37,
   "id": "e8751a3b-85e8-42e9-beaa-0b2a25d5691d",
   "metadata": {},
   "outputs": [],
   "source": [
    "processed_sentences=[]\n",
    "for s in sentences:\n",
    "    words=s.split()\n",
    "    processed_s = [word_dict[word] for word in words]\n",
    "    processed_sentences += [processed_s]"
   ]
  },
  {
   "cell_type": "code",
   "execution_count": 38,
   "id": "ce6122b4-091b-4582-b98a-b266dae8bf2b",
   "metadata": {},
   "outputs": [
    {
     "data": {
      "text/plain": [
       "[[0, 1, 2, 3, 0, 4, 5, 6, 7],\n",
       " [8, 9, 10, 11, 0, 12, 13, 0, 14],\n",
       " [15, 16, 17, 0, 18, 19, 20, 0, 21, 22],\n",
       " [0, 23, 24, 25, 26, 13, 0, 27, 28],\n",
       " [29, 30, 31, 32, 33, 34, 35, 36, 37],\n",
       " [0, 38, 39, 40, 41, 42, 0, 43, 44, 45],\n",
       " [46, 47, 48, 49, 0, 50, 39, 8, 51, 52],\n",
       " [53, 54, 55, 56, 57, 58, 59, 60, 61],\n",
       " [0, 62, 63, 64, 65, 66, 67, 68, 69],\n",
       " [0, 70, 71, 72, 8, 73, 74, 75, 76]]"
      ]
     },
     "execution_count": 38,
     "metadata": {},
     "output_type": "execute_result"
    }
   ],
   "source": [
    "processed_sentences"
   ]
  }
 ],
 "metadata": {
  "kernelspec": {
   "display_name": "Python 3 (ipykernel)",
   "language": "python",
   "name": "python3"
  },
  "language_info": {
   "codemirror_mode": {
    "name": "ipython",
    "version": 3
   },
   "file_extension": ".py",
   "mimetype": "text/x-python",
   "name": "python",
   "nbconvert_exporter": "python",
   "pygments_lexer": "ipython3",
   "version": "3.11.5"
  }
 },
 "nbformat": 4,
 "nbformat_minor": 5
}
